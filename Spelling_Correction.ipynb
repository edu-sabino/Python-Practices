{
  "nbformat": 4,
  "nbformat_minor": 0,
  "metadata": {
    "colab": {
      "name": "Spelling_Correction.ipynb",
      "provenance": [],
      "collapsed_sections": [],
      "authorship_tag": "ABX9TyMeieU+fbRmgSNnFfKUbcyB",
      "include_colab_link": true
    },
    "kernelspec": {
      "name": "python3",
      "display_name": "Python 3"
    },
    "language_info": {
      "name": "python"
    }
  },
  "cells": [
    {
      "cell_type": "markdown",
      "metadata": {
        "id": "view-in-github",
        "colab_type": "text"
      },
      "source": [
        "<a href=\"https://colab.research.google.com/github/edu-sabino/Python-Practices/blob/main/Spelling_Correction.ipynb\" target=\"_parent\"><img src=\"https://colab.research.google.com/assets/colab-badge.svg\" alt=\"Open In Colab\"/></a>"
      ]
    },
    {
      "cell_type": "code",
      "execution_count": 2,
      "metadata": {
        "colab": {
          "base_uri": "https://localhost:8080/"
        },
        "id": "5u6dtdV3dbkG",
        "outputId": "37613ce2-4d44-4145-8745-1f36b92d87d3"
      },
      "outputs": [
        {
          "output_type": "stream",
          "name": "stdout",
          "text": [
            "Enter your word: compouter sceinace\n",
            "Wrong words:  ['compouter', 'sceinace']\n",
            "Corrected words are: \n",
            "computer science "
          ]
        }
      ],
      "source": [
        "from textblob import TextBlob\n",
        "def Convert(string):\n",
        "  li = list(string.split())\n",
        "  return li\n",
        "str1 = input(\"Enter your word: \")\n",
        "words = Convert(str1)\n",
        "corrected_words = []\n",
        "for i in words:\n",
        "  corrected_words.append(TextBlob(i))\n",
        "print(\"Wrong words: \", words)\n",
        "print(\"Corrected words are: \")\n",
        "for i in corrected_words:\n",
        "  print(i.correct(), end=\" \")"
      ]
    }
  ]
}