{
  "nbformat": 4,
  "nbformat_minor": 0,
  "metadata": {
    "colab": {
      "name": "Webscraping_Stackoverflow.ipynb",
      "provenance": [],
      "authorship_tag": "ABX9TyOEsQYUBISrNRITNaB3zztQ",
      "include_colab_link": true
    },
    "kernelspec": {
      "name": "python3",
      "display_name": "Python 3"
    },
    "language_info": {
      "name": "python"
    }
  },
  "cells": [
    {
      "cell_type": "markdown",
      "metadata": {
        "id": "view-in-github",
        "colab_type": "text"
      },
      "source": [
        "<a href=\"https://colab.research.google.com/github/edu-sabino/Python-Practices/blob/main/Webscraping_Stackoverflow.ipynb\" target=\"_parent\"><img src=\"https://colab.research.google.com/assets/colab-badge.svg\" alt=\"Open In Colab\"/></a>"
      ]
    },
    {
      "cell_type": "code",
      "execution_count": null,
      "metadata": {
        "id": "54nJpmCpX5tN"
      },
      "outputs": [],
      "source": [
        "#!pip install requests-html requests pandas"
      ]
    },
    {
      "cell_type": "code",
      "source": [
        "import requests\n",
        "from requests_html import HTML\n",
        "import time\n",
        "import pandas as pd"
      ],
      "metadata": {
        "id": "J7sPec9UYOcr"
      },
      "execution_count": null,
      "outputs": []
    },
    {
      "cell_type": "code",
      "source": [
        "def parse_tagged_page(html):\n",
        "  question_summaries = html.find('.s-post-summary')\n",
        "  key_names = ['id', 'question', 'date', 'tags', 'answers']\n",
        "  data_needed = ['.data-post-id', '.s-link', '.s-user-card--time', '.s-post-summary--meta-tags', '.s-post-summary--stats-item']\n",
        "  dados = []\n",
        "\n",
        "  for q_element in question_summaries:\n",
        "    question_data = {}\n",
        "    for i, head in enumerate(data_needed):\n",
        "      keyname = key_names[i]\n",
        "      if head == '.data-post-id':\n",
        "        sub_el = q_element.attrs['data-post-id'] # ex: 70574795\n",
        "        question_data[keyname] = sub_el\n",
        "     \n",
        "      elif head == '.s-post-summary--stats-item':\n",
        "        sub_el = q_element.find(head)\n",
        "        question_data[keyname] = sub_el[1].text\n",
        "     \n",
        "      elif head == '.s-user-card--time':\n",
        "        sub_el = q_element.find(head, first = True).text[6:12]\n",
        "        question_data[keyname] = sub_el\n",
        "      else:\n",
        "        sub_el = q_element.find(head, first = True).text\n",
        "        question_data[keyname] = sub_el\n",
        "     #print(sub_el.text)\n",
        "    dados.append(question_data)\n",
        "  return dados"
      ],
      "metadata": {
        "id": "AckCBkCqYVUE"
      },
      "execution_count": null,
      "outputs": []
    },
    {
      "cell_type": "code",
      "source": [
        "def extract_data_from_url(url):\n",
        "  r = requests.get(url) # usando o método GET para armazenar a página numa variável\n",
        "  if r.status_code not in range(200, 299):\n",
        "    return []\n",
        "  html_str = r.text # exibindo o texto do HTML\n",
        "  html = HTML(html=html_str) # Instanciando um objeto 'html' da classe HTML\n",
        "  dados = parse_tagged_page(html)\n",
        "  return dados"
      ],
      "metadata": {
        "id": "udHgJcnvYpLn"
      },
      "execution_count": null,
      "outputs": []
    },
    {
      "cell_type": "code",
      "source": [
        "def scrape_tag(tag='python', filter='newest', page=3360, max_pages=10):\n",
        "  base_url = 'https://stackoverflow.com/questions/tagged/'\n",
        "  dados = []\n",
        "  for p in range(max_pages):\n",
        "    page = 3360 + p # a medida que o tempo passa, este número vai aumentando\n",
        "    url = f\"{base_url}{tag}?tab={filter}&page={page}&pagesize=50\"\n",
        "    dados += extract_data_from_url(url)\n",
        "    time.sleep(1.5)\n",
        "  return dados"
      ],
      "metadata": {
        "id": "t3ZGvo8BYtEc"
      },
      "execution_count": null,
      "outputs": []
    },
    {
      "cell_type": "code",
      "source": [
        "dados_python_22 = scrape_tag()"
      ],
      "metadata": {
        "id": "quMNw-I5Y0m1"
      },
      "execution_count": null,
      "outputs": []
    },
    {
      "cell_type": "code",
      "source": [
        "df = pd.DataFrame(dados_python_22)\n",
        "df"
      ],
      "metadata": {
        "id": "Urlg5l0WY36G"
      },
      "execution_count": null,
      "outputs": []
    }
  ]
}